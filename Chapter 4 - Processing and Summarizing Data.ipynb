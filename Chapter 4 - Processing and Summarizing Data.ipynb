{
 "cells": [
  {
   "cell_type": "code",
   "execution_count": 1,
   "metadata": {},
   "outputs": [
    {
     "name": "stdout",
     "output_type": "stream",
     "text": [
      "\u001b[32m\u001b[1mActivating\u001b[22m\u001b[39m environment at `~/Code/julia/stats_with_julia/Project.toml`\n"
     ]
    }
   ],
   "source": [
    "using Pkg; Pkg.activate(\".\")"
   ]
  },
  {
   "cell_type": "markdown",
   "metadata": {},
   "source": [
    "# Mutability"
   ]
  },
  {
   "cell_type": "code",
   "execution_count": 2,
   "metadata": {},
   "outputs": [
    {
     "data": {
      "text/plain": [
       "true"
      ]
     },
     "execution_count": 2,
     "metadata": {},
     "output_type": "execute_result"
    }
   ],
   "source": [
    "isimmutable(1)"
   ]
  },
  {
   "cell_type": "code",
   "execution_count": 3,
   "metadata": {},
   "outputs": [
    {
     "data": {
      "text/plain": [
       "false"
      ]
     },
     "execution_count": 3,
     "metadata": {},
     "output_type": "execute_result"
    }
   ],
   "source": [
    "isimmutable([1])"
   ]
  },
  {
   "cell_type": "code",
   "execution_count": 4,
   "metadata": {},
   "outputs": [
    {
     "data": {
      "text/plain": [
       "Foo(1)"
      ]
     },
     "metadata": {},
     "output_type": "display_data"
    },
    {
     "data": {
      "text/plain": [
       "Bar(1)"
      ]
     },
     "metadata": {},
     "output_type": "display_data"
    },
    {
     "data": {
      "text/plain": [
       "Bar(2)"
      ]
     },
     "metadata": {},
     "output_type": "display_data"
    },
    {
     "data": {
      "text/plain": [
       "Baz(1, Bar(1))"
      ]
     },
     "metadata": {},
     "output_type": "display_data"
    },
    {
     "data": {
      "text/plain": [
       "Baz(1, Bar(2))"
      ]
     },
     "metadata": {},
     "output_type": "display_data"
    }
   ],
   "source": [
    "struct Foo\n",
    "    x :: Int\n",
    "end\n",
    "\n",
    "mutable struct Bar\n",
    "    x :: Int\n",
    "end\n",
    "\n",
    "struct Baz\n",
    "    x :: Int\n",
    "    y :: Bar\n",
    "end\n",
    "\n",
    "a = Foo(1)\n",
    "b = Bar(1)\n",
    "c = Baz(1, Bar(1))\n",
    "\n",
    "display(a)\n",
    "\n",
    "display(b)\n",
    "b.x += 1\n",
    "display(b)\n",
    "\n",
    "display(c)\n",
    "c.y.x += 1\n",
    "display(c)"
   ]
  },
  {
   "cell_type": "markdown",
   "metadata": {},
   "source": [
    "# Data Classification\n",
    "\n",
    "Any variable in a dataset can be classified as either a ***numerical*** variable, or ***categorical*** variable. A *numerical* variable is a variable in which the location of the measurement on the number line is meaningful. Examples include height and weight. A *categorical* variable communicates some information based on categories, or characteristics via grouping.\n",
    "\n",
    "Categorical variables can be further split into ***nominal*** variables, such as blood type, or names, and ***ordinal*** variables, in which some order is communicated, such as grades on a test, A to E."
   ]
  }
 ],
 "metadata": {
  "kernelspec": {
   "display_name": "Julia 1.3.1",
   "language": "julia",
   "name": "julia-1.3"
  },
  "language_info": {
   "file_extension": ".jl",
   "mimetype": "application/julia",
   "name": "julia",
   "version": "1.3.1"
  }
 },
 "nbformat": 4,
 "nbformat_minor": 4
}
